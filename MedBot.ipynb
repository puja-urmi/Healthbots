{
 "cells": [
  {
   "cell_type": "markdown",
   "metadata": {},
   "source": [
    "# Medical ChatBot-RAG Based Approach\n",
    "\n",
    "The project aims to develop a robust Retrieval-Augmented Generation (RAG) based medical chatbot to overcome the limitations observed within the medical domain. Medical chatbots offer instant access to healthcare information, guidance, and support, augmenting healthcare accessibility and efficiency. They provide timely responses to queries, aiding in symptom assessment, medication reminders, and wellness advice. Particularly beneficial in remote areas or during non-office hours, they reduce strain on healthcare systems, offering preliminary assessments and reassurance to users. Additionally, they enhance patient education, promoting proactive healthcare practices and facilitating early intervention for potential health issues. Through continuous learning and adaptation, medical chatbots evolve to meet user needs, fostering a more informed and empowered healthcare experience while alleviating pressure on traditional medical services.\n",
    "\n",
    "\n",
    "## Notebook Breakdown:\n",
    "\n",
    "- Importing Required Resources: This step involves identifying and bringing in all necessary tools, and other resources required for the project. This may include programming languages, machine learning frameworks, data collection tools, and any other dependencies.\n",
    "\n",
    "- Data Gathering and Preparation: In this phase, data relevant to the project is collected, this could include data cleaning, preprocessing, and structuring the data in a format suitable for analysis or modeling.\n",
    "\n",
    "- Creating a Vector Database using only the contexts: Here, the collected data is transformed into numerical vectors while preserving semantic meaning. This typically involves techniques such as word embedding models or contextual embedding models to represent words or sentences as dense vectors.\n",
    "\n",
    "- Testing Vector Database: After creating the vector database, it's important to validate its effectiveness. This could involve querying the database with known inputs and verifying that the retrieved vectors match expectations.\n",
    "\n",
    "- Testing the Vector Database if the same question is paraphrased: This step involves assessing the robustness of the vector database to handle paraphrased queries. It tests whether the database can accurately retrieve relevant vectors even when the query is rephrased or expressed differently.\n",
    "\n",
    "- Creating Retrieval Augmented Generation (RAG) pipeline using LANGCHAIN: Building upon the vector database, this step involves constructing a pipeline that integrates retrieval and generation techniques using LANGCHAIN.\n",
    "\n",
    "- Evaluating the RAG pipeline using RAGAS: Once the RAG pipeline is established, it needs to be evaluated for its effectiveness in generating relevant responses to queries. RAGAS (Retrieval Augmented Generation Assessment Suite) could be a standardized evaluation framework or set of metrics used for this evaluation.\n",
    "\n",
    "- Performance Measures: Various metrics and performance measures are calculated to assess the efficiency and effectiveness of the RAG pipeline. \n",
    "\n",
    "- Evaluation Results: Finally, the results of the evaluation are summarized and analyzed. This includes faithfulness\", \"context_precision\", \"context_recall\", \"answer_similarity\", \"answer_relevancy\", \"answer_correctness\"."
   ]
  },
  {
   "cell_type": "markdown",
   "metadata": {},
   "source": [
    "## Importing necessary libraries"
   ]
  },
  {
   "cell_type": "code",
   "execution_count": 80,
   "metadata": {},
   "outputs": [],
   "source": [
    "from datasets import load_dataset # Used to load dataset from Hugging face\n",
    "from warnings import filterwarnings # Used to filter warnings\n",
    "from pinecone import Pinecone # Used to create vector database\n",
    "from sentence_transformers import SentenceTransformer # Used to create dense vector embeddings\n",
    "import torch # Used for torch operations\n",
    "from pinecone_text.sparse import SpladeEncoder # Used to create sparse embeddings\n",
    "import os # Used for OS operations\n",
    "from tqdm import tqdm # Used for tracking the progress\n",
    "from langchain.vectorstores import Pinecone as pc # Used for connecting the vectordatabase to the RAG pipeline\n",
    "from langchain_community.embeddings import SentenceTransformerEmbeddings # Used for converting retrieval queries into dense vector embeddings\n",
    "from langchain_openai import ChatOpenAI # Used for text generation\n",
    "from langchain.chains import RetrievalQA # Used for creating a RAG pipeline\n",
    "import numpy as np # Used for numpy operations\n",
    "import pandas as pd # Used to create a pandas Dataframe\n",
    "from datasets import Dataset # Used to create dataset object\n",
    "import seaborn as sns # Used to visualize RAG evaluation\n",
    "from ragas.metrics import faithfulness, answer_relevancy, context_precision, context_recall, context_relevancy, answer_similarity, answer_correctness # Used to evaluate RAG pipeline\n",
    "from ragas import evaluate # Used to evaluate RAG pipeline\n",
    "import matplotlib.pyplot as plt # Used for visualization\n",
    "pinecone = Pinecone(api_key = os.environ[\"PINECONE_API_KEY\"]) # Initialising Pinecone object for vector database\n",
    "\n",
    "filterwarnings(\"ignore\")\n"
   ]
  },
  {
   "cell_type": "markdown",
   "metadata": {},
   "source": [
    "## Data Gathering and Preparation"
   ]
  },
  {
   "cell_type": "code",
   "execution_count": 4,
   "metadata": {},
   "outputs": [
    {
     "data": {
      "text/plain": [
       "Dataset({\n",
       "    features: ['pubid', 'question', 'context', 'long_answer', 'final_decision'],\n",
       "    num_rows: 1000\n",
       "})"
      ]
     },
     "execution_count": 4,
     "metadata": {},
     "output_type": "execute_result"
    }
   ],
   "source": [
    "data = load_dataset(\"pubmed_qa\", \"pqa_labeled\", split = \"train\") # Loading the dataset from Hugging Face\n",
    "data"
   ]
  },
  {
   "cell_type": "code",
   "execution_count": 5,
   "metadata": {},
   "outputs": [
    {
     "data": {
      "text/plain": [
       "{'pubid': 21645374,\n",
       " 'question': 'Do mitochondria play a role in remodelling lace plant leaves during programmed cell death?',\n",
       " 'context': {'contexts': ['Programmed cell death (PCD) is the regulated death of cells within an organism. The lace plant (Aponogeton madagascariensis) produces perforations in its leaves through PCD. The leaves of the plant consist of a latticework of longitudinal and transverse veins enclosing areoles. PCD occurs in the cells at the center of these areoles and progresses outwards, stopping approximately five cells from the vasculature. The role of mitochondria during PCD has been recognized in animals; however, it has been less studied during PCD in plants.',\n",
       "   'The following paper elucidates the role of mitochondrial dynamics during developmentally regulated PCD in vivo in A. madagascariensis. A single areole within a window stage leaf (PCD is occurring) was divided into three areas based on the progression of PCD; cells that will not undergo PCD (NPCD), cells in early stages of PCD (EPCD), and cells in late stages of PCD (LPCD). Window stage leaves were stained with the mitochondrial dye MitoTracker Red CMXRos and examined. Mitochondrial dynamics were delineated into four categories (M1-M4) based on characteristics including distribution, motility, and membrane potential (ΔΨm). A TUNEL assay showed fragmented nDNA in a gradient over these mitochondrial stages. Chloroplasts and transvacuolar strands were also examined using live cell imaging. The possible importance of mitochondrial permeability transition pore (PTP) formation during PCD was indirectly examined via in vivo cyclosporine A (CsA) treatment. This treatment resulted in lace plant leaves with a significantly lower number of perforations compared to controls, and that displayed mitochondrial dynamics similar to that of non-PCD cells.'],\n",
       "  'labels': ['BACKGROUND', 'RESULTS'],\n",
       "  'meshes': ['Alismataceae',\n",
       "   'Apoptosis',\n",
       "   'Cell Differentiation',\n",
       "   'Mitochondria',\n",
       "   'Plant Leaves'],\n",
       "  'reasoning_required_pred': ['y', 'e', 's'],\n",
       "  'reasoning_free_pred': ['y', 'e', 's']},\n",
       " 'long_answer': 'Results depicted mitochondrial dynamics in vivo as PCD progresses within the lace plant, and highlight the correlation of this organelle with other organelles during developmental PCD. To the best of our knowledge, this is the first report of mitochondria and chloroplasts moving on transvacuolar strands to form a ring structure surrounding the nucleus during developmental PCD. Also, for the first time, we have shown the feasibility for the use of CsA in a whole plant system. Overall, our findings implicate the mitochondria as playing a critical and early role in developmentally regulated PCD in the lace plant.',\n",
       " 'final_decision': 'yes'}"
      ]
     },
     "execution_count": 5,
     "metadata": {},
     "output_type": "execute_result"
    }
   ],
   "source": [
    "data[0] # View the data format"
   ]
  },
  {
   "cell_type": "code",
   "execution_count": 6,
   "metadata": {},
   "outputs": [
    {
     "data": {
      "text/plain": [
       "'Do mitochondria play a role in remodelling lace plant leaves during programmed cell death?'"
      ]
     },
     "execution_count": 6,
     "metadata": {},
     "output_type": "execute_result"
    }
   ],
   "source": [
    "data[0][\"question\"] # View a medical question"
   ]
  },
  {
   "cell_type": "code",
   "execution_count": 7,
   "metadata": {},
   "outputs": [
    {
     "data": {
      "text/plain": [
       "['Programmed cell death (PCD) is the regulated death of cells within an organism. The lace plant (Aponogeton madagascariensis) produces perforations in its leaves through PCD. The leaves of the plant consist of a latticework of longitudinal and transverse veins enclosing areoles. PCD occurs in the cells at the center of these areoles and progresses outwards, stopping approximately five cells from the vasculature. The role of mitochondria during PCD has been recognized in animals; however, it has been less studied during PCD in plants.',\n",
       " 'The following paper elucidates the role of mitochondrial dynamics during developmentally regulated PCD in vivo in A. madagascariensis. A single areole within a window stage leaf (PCD is occurring) was divided into three areas based on the progression of PCD; cells that will not undergo PCD (NPCD), cells in early stages of PCD (EPCD), and cells in late stages of PCD (LPCD). Window stage leaves were stained with the mitochondrial dye MitoTracker Red CMXRos and examined. Mitochondrial dynamics were delineated into four categories (M1-M4) based on characteristics including distribution, motility, and membrane potential (ΔΨm). A TUNEL assay showed fragmented nDNA in a gradient over these mitochondrial stages. Chloroplasts and transvacuolar strands were also examined using live cell imaging. The possible importance of mitochondrial permeability transition pore (PTP) formation during PCD was indirectly examined via in vivo cyclosporine A (CsA) treatment. This treatment resulted in lace plant leaves with a significantly lower number of perforations compared to controls, and that displayed mitochondrial dynamics similar to that of non-PCD cells.']"
      ]
     },
     "execution_count": 7,
     "metadata": {},
     "output_type": "execute_result"
    }
   ],
   "source": [
    "data[0][\"context\"][\"contexts\"] # View the contexts required to answer the medical question"
   ]
  },
  {
   "cell_type": "code",
   "execution_count": 8,
   "metadata": {},
   "outputs": [
    {
     "data": {
      "text/plain": [
       "'Results depicted mitochondrial dynamics in vivo as PCD progresses within the lace plant, and highlight the correlation of this organelle with other organelles during developmental PCD. To the best of our knowledge, this is the first report of mitochondria and chloroplasts moving on transvacuolar strands to form a ring structure surrounding the nucleus during developmental PCD. Also, for the first time, we have shown the feasibility for the use of CsA in a whole plant system. Overall, our findings implicate the mitochondria as playing a critical and early role in developmentally regulated PCD in the lace plant.'"
      ]
     },
     "execution_count": 8,
     "metadata": {},
     "output_type": "execute_result"
    }
   ],
   "source": [
    "data[0][\"long_answer\"] # View the ground truth answer (Long answer) to the medical question"
   ]
  },
  {
   "cell_type": "code",
   "execution_count": 9,
   "metadata": {},
   "outputs": [
    {
     "data": {
      "text/plain": [
       "'yes'"
      ]
     },
     "execution_count": 9,
     "metadata": {},
     "output_type": "execute_result"
    }
   ],
   "source": [
    "data[0][\"final_decision\"] # View the short response for a given question"
   ]
  },
  {
   "cell_type": "code",
   "execution_count": 10,
   "metadata": {},
   "outputs": [
    {
     "data": {
      "text/plain": [
       "['Programmed cell death (PCD) is the regulated death of cells within an organism. The lace plant (Aponogeton madagascariensis) produces perforations in its leaves through PCD. The leaves of the plant consist of a latticework of longitudinal and transverse veins enclosing areoles. PCD occurs in the cells at the center of these areoles and progresses outwards, stopping approximately five cells from the vasculature. The role of mitochondria during PCD has been recognized in animals; however, it has been less studied during PCD in plants.',\n",
       " 'The following paper elucidates the role of mitochondrial dynamics during developmentally regulated PCD in vivo in A. madagascariensis. A single areole within a window stage leaf (PCD is occurring) was divided into three areas based on the progression of PCD; cells that will not undergo PCD (NPCD), cells in early stages of PCD (EPCD), and cells in late stages of PCD (LPCD). Window stage leaves were stained with the mitochondrial dye MitoTracker Red CMXRos and examined. Mitochondrial dynamics were delineated into four categories (M1-M4) based on characteristics including distribution, motility, and membrane potential (ΔΨm). A TUNEL assay showed fragmented nDNA in a gradient over these mitochondrial stages. Chloroplasts and transvacuolar strands were also examined using live cell imaging. The possible importance of mitochondrial permeability transition pore (PTP) formation during PCD was indirectly examined via in vivo cyclosporine A (CsA) treatment. This treatment resulted in lace plant leaves with a significantly lower number of perforations compared to controls, and that displayed mitochondrial dynamics similar to that of non-PCD cells.']"
      ]
     },
     "execution_count": 10,
     "metadata": {},
     "output_type": "execute_result"
    }
   ],
   "source": [
    "text = data[0][\"context\"][\"contexts\"] # Creating a random text context for testing the chunker function\n",
    "text"
   ]
  },
  {
   "cell_type": "code",
   "execution_count": 11,
   "metadata": {},
   "outputs": [],
   "source": [
    "limit = 384\n",
    "def chunker(contexts: list[object]):\n",
    "    \"\"\"\n",
    "    A function to create chunks out of context provided\n",
    "    Args: Requires a list of contexts\n",
    "    Returns: Returns a list of contexts within the embedding character limit\n",
    "    \"\"\"\n",
    "    chunks = [] # A list to return all the context\n",
    "    all_contexts = \" \".join(contexts).split(\".\") # join all the provided context and splitting them based on sentences\n",
    "    chunk = [] # A list to retrieve each sentence at a time\n",
    "    for context in all_contexts: # Iterating over each sentence\n",
    "        chunk.append(context) # Appending each sentence\n",
    "        # If the length of sentences is greater than 3 or if the character limit has been reached\n",
    "        if len(chunk) >=3 and len(\".\".join(chunk))> limit:\n",
    "            # Appending the chunks list with the few sentences\n",
    "            chunks.append(\".\".join(chunk).strip()+\".\")\n",
    "            # Add some overlap to the next context/ sentences\n",
    "            chunk = chunk[-2:]\n",
    "    # If we complete the loop and still have a chunk left (less than the character limit), add it\n",
    "    if chunk is not None:\n",
    "        chunks.append(\".\".join(chunk))\n",
    "    return chunks\n"
   ]
  },
  {
   "cell_type": "code",
   "execution_count": 12,
   "metadata": {},
   "outputs": [
    {
     "data": {
      "text/plain": [
       "['Programmed cell death (PCD) is the regulated death of cells within an organism. The lace plant (Aponogeton madagascariensis) produces perforations in its leaves through PCD. The leaves of the plant consist of a latticework of longitudinal and transverse veins enclosing areoles. PCD occurs in the cells at the center of these areoles and progresses outwards, stopping approximately five cells from the vasculature.',\n",
       " 'The leaves of the plant consist of a latticework of longitudinal and transverse veins enclosing areoles. PCD occurs in the cells at the center of these areoles and progresses outwards, stopping approximately five cells from the vasculature. The role of mitochondria during PCD has been recognized in animals; however, it has been less studied during PCD in plants. The following paper elucidates the role of mitochondrial dynamics during developmentally regulated PCD in vivo in A.',\n",
       " 'The role of mitochondria during PCD has been recognized in animals; however, it has been less studied during PCD in plants. The following paper elucidates the role of mitochondrial dynamics during developmentally regulated PCD in vivo in A. madagascariensis. A single areole within a window stage leaf (PCD is occurring) was divided into three areas based on the progression of PCD; cells that will not undergo PCD (NPCD), cells in early stages of PCD (EPCD), and cells in late stages of PCD (LPCD).',\n",
       " 'madagascariensis. A single areole within a window stage leaf (PCD is occurring) was divided into three areas based on the progression of PCD; cells that will not undergo PCD (NPCD), cells in early stages of PCD (EPCD), and cells in late stages of PCD (LPCD). Window stage leaves were stained with the mitochondrial dye MitoTracker Red CMXRos and examined. Mitochondrial dynamics were delineated into four categories (M1-M4) based on characteristics including distribution, motility, and membrane potential (ΔΨm).',\n",
       " 'Window stage leaves were stained with the mitochondrial dye MitoTracker Red CMXRos and examined. Mitochondrial dynamics were delineated into four categories (M1-M4) based on characteristics including distribution, motility, and membrane potential (ΔΨm). A TUNEL assay showed fragmented nDNA in a gradient over these mitochondrial stages. Chloroplasts and transvacuolar strands were also examined using live cell imaging.',\n",
       " 'A TUNEL assay showed fragmented nDNA in a gradient over these mitochondrial stages. Chloroplasts and transvacuolar strands were also examined using live cell imaging. The possible importance of mitochondrial permeability transition pore (PTP) formation during PCD was indirectly examined via in vivo cyclosporine A (CsA) treatment. This treatment resulted in lace plant leaves with a significantly lower number of perforations compared to controls, and that displayed mitochondrial dynamics similar to that of non-PCD cells.',\n",
       " ' The possible importance of mitochondrial permeability transition pore (PTP) formation during PCD was indirectly examined via in vivo cyclosporine A (CsA) treatment. This treatment resulted in lace plant leaves with a significantly lower number of perforations compared to controls, and that displayed mitochondrial dynamics similar to that of non-PCD cells.']"
      ]
     },
     "execution_count": 12,
     "metadata": {},
     "output_type": "execute_result"
    }
   ],
   "source": [
    "chunks = chunker(text) # Testing the chunker function\n",
    "chunks"
   ]
  },
  {
   "cell_type": "code",
   "execution_count": 13,
   "metadata": {},
   "outputs": [
    {
     "data": {
      "text/plain": [
       "[{'id': '21645374 - 0',\n",
       "  'context': 'Programmed cell death (PCD) is the regulated death of cells within an organism. The lace plant (Aponogeton madagascariensis) produces perforations in its leaves through PCD. The leaves of the plant consist of a latticework of longitudinal and transverse veins enclosing areoles. PCD occurs in the cells at the center of these areoles and progresses outwards, stopping approximately five cells from the vasculature.'},\n",
       " {'id': '21645374 - 1',\n",
       "  'context': 'The leaves of the plant consist of a latticework of longitudinal and transverse veins enclosing areoles. PCD occurs in the cells at the center of these areoles and progresses outwards, stopping approximately five cells from the vasculature. The role of mitochondria during PCD has been recognized in animals; however, it has been less studied during PCD in plants. The following paper elucidates the role of mitochondrial dynamics during developmentally regulated PCD in vivo in A.'}]"
      ]
     },
     "execution_count": 13,
     "metadata": {},
     "output_type": "execute_result"
    }
   ],
   "source": [
    "ids_context = [] # Creating a list of ids and context\n",
    "for i in data: # Iterating over every data row\n",
    "    chunks = chunker(i[\"context\"][\"contexts\"]) # Chunking contexts into limited number of characters for dense and sparse embeddings\n",
    "    for x, context in enumerate(chunks): # Iterating over each chunk\n",
    "        ids_context.append({\n",
    "            \"id\" : f\"{i['pubid']} - {x}\", \n",
    "            \"context\": context\n",
    "        }) # Append each unique id for a chunk of context\n",
    "\n",
    "ids_context[:2] # View the created list"
   ]
  },
  {
   "cell_type": "code",
   "execution_count": 14,
   "metadata": {},
   "outputs": [
    {
     "data": {
      "text/plain": [
       "SentenceTransformer(\n",
       "  (0): Transformer({'max_seq_length': 512, 'do_lower_case': False}) with Transformer model: BertModel \n",
       "  (1): Pooling({'word_embedding_dimension': 768, 'pooling_mode_cls_token': False, 'pooling_mode_mean_tokens': True, 'pooling_mode_max_tokens': False, 'pooling_mode_mean_sqrt_len_tokens': False, 'pooling_mode_weightedmean_tokens': False, 'pooling_mode_lasttoken': False})\n",
       ")"
      ]
     },
     "execution_count": 14,
     "metadata": {},
     "output_type": "execute_result"
    }
   ],
   "source": [
    "device = \"cuda\" if torch.cuda.is_available() else \"cpu\" # Consider GPU if available\n",
    "dense_model = SentenceTransformer(\"msmarco-bert-base-dot-v5\", device = device) # Creating a Transformer model for dense embeddings\n",
    "dense_model"
   ]
  },
  {
   "cell_type": "code",
   "execution_count": 15,
   "metadata": {},
   "outputs": [
    {
     "data": {
      "text/plain": [
       "(768,)"
      ]
     },
     "execution_count": 15,
     "metadata": {},
     "output_type": "execute_result"
    }
   ],
   "source": [
    "embeds = dense_model.encode(ids_context[0][\"context\"]) # Creating a test dense embedding \n",
    "embeds.shape # View the shape of dense embedding for creating the vector database of the same dimension"
   ]
  },
  {
   "cell_type": "code",
   "execution_count": 16,
   "metadata": {},
   "outputs": [
    {
     "data": {
      "text/plain": [
       "{'indices': [1000,\n",
       "  1039,\n",
       "  1052,\n",
       "  1997,\n",
       "  1999,\n",
       "  2003,\n",
       "  2024,\n",
       "  2049,\n",
       "  2083,\n",
       "  2094,\n",
       "  2173,\n",
       "  2239,\n",
       "  2278,\n",
       "  2290,\n",
       "  2306,\n",
       "  2331,\n",
       "  2415,\n",
       "  2427,\n",
       "  2523,\n",
       "  2537,\n",
       "  2550,\n",
       "  2565,\n",
       "  2566,\n",
       "  2597,\n",
       "  2644,\n",
       "  2754,\n",
       "  2757,\n",
       "  2832,\n",
       "  2974,\n",
       "  3030,\n",
       "  3081,\n",
       "  3102,\n",
       "  3252,\n",
       "  3269,\n",
       "  3274,\n",
       "  3280,\n",
       "  3370,\n",
       "  3392,\n",
       "  3399,\n",
       "  3508,\n",
       "  3526,\n",
       "  3571,\n",
       "  3581,\n",
       "  3628,\n",
       "  3727,\n",
       "  3740,\n",
       "  3817,\n",
       "  3965,\n",
       "  3968,\n",
       "  4264,\n",
       "  4295,\n",
       "  4372,\n",
       "  4442,\n",
       "  4456,\n",
       "  4574,\n",
       "  4649,\n",
       "  4717,\n",
       "  4730,\n",
       "  4758,\n",
       "  4775,\n",
       "  4870,\n",
       "  4962,\n",
       "  4963,\n",
       "  5080,\n",
       "  5104,\n",
       "  5258,\n",
       "  5397,\n",
       "  5701,\n",
       "  5708,\n",
       "  5920,\n",
       "  5996,\n",
       "  6198,\n",
       "  6210,\n",
       "  6215,\n",
       "  6310,\n",
       "  6418,\n",
       "  6470,\n",
       "  6531,\n",
       "  6546,\n",
       "  6580,\n",
       "  6897,\n",
       "  7053,\n",
       "  7337,\n",
       "  7366,\n",
       "  7403,\n",
       "  7473,\n",
       "  7609,\n",
       "  7691,\n",
       "  7775,\n",
       "  7816,\n",
       "  8475,\n",
       "  8676,\n",
       "  8715,\n",
       "  8761,\n",
       "  8765,\n",
       "  8872,\n",
       "  8979,\n",
       "  9007,\n",
       "  9232,\n",
       "  9448,\n",
       "  9607,\n",
       "  9706,\n",
       "  9890,\n",
       "  9895,\n",
       "  9915,\n",
       "  10012,\n",
       "  10088,\n",
       "  10244,\n",
       "  10267,\n",
       "  10327,\n",
       "  10507,\n",
       "  10708,\n",
       "  10738,\n",
       "  11503,\n",
       "  11568,\n",
       "  11704,\n",
       "  11767,\n",
       "  11798,\n",
       "  11829,\n",
       "  11934,\n",
       "  12222,\n",
       "  12436,\n",
       "  12562,\n",
       "  12610,\n",
       "  12650,\n",
       "  12677,\n",
       "  12810,\n",
       "  12818,\n",
       "  12922,\n",
       "  13656,\n",
       "  13685,\n",
       "  13938,\n",
       "  14211,\n",
       "  14446,\n",
       "  14774,\n",
       "  15176,\n",
       "  15436,\n",
       "  15923,\n",
       "  16098,\n",
       "  16221,\n",
       "  16341,\n",
       "  16355,\n",
       "  16622,\n",
       "  16984,\n",
       "  17175,\n",
       "  17324,\n",
       "  17779,\n",
       "  18133,\n",
       "  18150,\n",
       "  18323,\n",
       "  18419,\n",
       "  18606,\n",
       "  19723,\n",
       "  19797,\n",
       "  20051,\n",
       "  20134,\n",
       "  20437,\n",
       "  20464,\n",
       "  20863,\n",
       "  21163,\n",
       "  21618,\n",
       "  22498,\n",
       "  22851,\n",
       "  24054,\n",
       "  24117,\n",
       "  25950,\n",
       "  26835,\n",
       "  27019,\n",
       "  27382,\n",
       "  27806,\n",
       "  28817,\n",
       "  29111,\n",
       "  29215,\n",
       "  29278],\n",
       " 'values': [0.6246450543403625,\n",
       "  0.45678919553756714,\n",
       "  0.3088967502117157,\n",
       "  0.1581260859966278,\n",
       "  0.0719476267695427,\n",
       "  0.6496520638465881,\n",
       "  0.9411972165107727,\n",
       "  0.3161497414112091,\n",
       "  0.7597630620002747,\n",
       "  1.9501703977584839,\n",
       "  0.32374072074890137,\n",
       "  0.3950241804122925,\n",
       "  0.23536929488182068,\n",
       "  0.24571123719215393,\n",
       "  0.4253386855125427,\n",
       "  1.960245132446289,\n",
       "  0.628949761390686,\n",
       "  0.42441225051879883,\n",
       "  0.018047112971544266,\n",
       "  0.19568859040737152,\n",
       "  0.668481171131134,\n",
       "  0.8162298798561096,\n",
       "  1.0954258441925049,\n",
       "  0.1979699730873108,\n",
       "  0.22766350209712982,\n",
       "  0.013307091780006886,\n",
       "  0.9048294425010681,\n",
       "  0.6024841666221619,\n",
       "  0.6100091338157654,\n",
       "  0.0397961251437664,\n",
       "  0.12952128052711487,\n",
       "  0.023475274443626404,\n",
       "  0.39756959676742554,\n",
       "  1.214468002319336,\n",
       "  0.7056946754455566,\n",
       "  1.5106242895126343,\n",
       "  0.5332865118980408,\n",
       "  0.49861687421798706,\n",
       "  0.4658367931842804,\n",
       "  0.07503626495599747,\n",
       "  1.6885474920272827,\n",
       "  0.2525496184825897,\n",
       "  0.0353337861597538,\n",
       "  0.3232730031013489,\n",
       "  1.3433908224105835,\n",
       "  0.3039572536945343,\n",
       "  0.013607041910290718,\n",
       "  0.624562680721283,\n",
       "  0.017263634130358696,\n",
       "  1.15723717212677,\n",
       "  0.4423254132270813,\n",
       "  0.42209091782569885,\n",
       "  1.3138163089752197,\n",
       "  0.051650989800691605,\n",
       "  0.41315892338752747,\n",
       "  0.003491876879706979,\n",
       "  0.5426621437072754,\n",
       "  0.45670363306999207,\n",
       "  0.915590226650238,\n",
       "  0.21752393245697021,\n",
       "  0.1126517653465271,\n",
       "  0.3476952314376831,\n",
       "  0.30037054419517517,\n",
       "  0.09560233354568481,\n",
       "  0.12621159851551056,\n",
       "  0.9000256657600403,\n",
       "  0.3979388177394867,\n",
       "  0.11865179985761642,\n",
       "  0.00126354256644845,\n",
       "  0.08769621700048447,\n",
       "  0.30473923683166504,\n",
       "  0.9953414797782898,\n",
       "  0.34581440687179565,\n",
       "  0.35651570558547974,\n",
       "  0.9260972142219543,\n",
       "  0.15279251337051392,\n",
       "  0.06358978897333145,\n",
       "  0.0831759050488472,\n",
       "  0.35262414813041687,\n",
       "  0.08260063827037811,\n",
       "  0.19066594541072845,\n",
       "  1.1524654626846313,\n",
       "  0.4507736563682556,\n",
       "  0.4753207266330719,\n",
       "  0.02695372886955738,\n",
       "  3.0166797637939453,\n",
       "  0.19747105240821838,\n",
       "  0.1547672152519226,\n",
       "  0.3816481828689575,\n",
       "  1.0277026891708374,\n",
       "  0.5071762800216675,\n",
       "  0.4775402545928955,\n",
       "  0.24301034212112427,\n",
       "  0.8693490624427795,\n",
       "  0.12192066758871078,\n",
       "  0.14416688680648804,\n",
       "  0.14129501581192017,\n",
       "  0.02781251259148121,\n",
       "  0.1015661433339119,\n",
       "  0.21782636642456055,\n",
       "  1.0227532386779785,\n",
       "  1.136396050453186,\n",
       "  1.4537827968597412,\n",
       "  0.14175191521644592,\n",
       "  0.007139763794839382,\n",
       "  0.5177183151245117,\n",
       "  0.2781409025192261,\n",
       "  0.13304707407951355,\n",
       "  0.022450542077422142,\n",
       "  0.013678803108632565,\n",
       "  0.5391488075256348,\n",
       "  0.7020871639251709,\n",
       "  0.13944384455680847,\n",
       "  0.1596931368112564,\n",
       "  0.04514998570084572,\n",
       "  0.03438572958111763,\n",
       "  0.9988226294517517,\n",
       "  0.318045049905777,\n",
       "  0.12347929179668427,\n",
       "  2.2563421726226807,\n",
       "  1.5308406352996826,\n",
       "  0.43875861167907715,\n",
       "  0.35142800211906433,\n",
       "  0.1291435956954956,\n",
       "  0.2948976755142212,\n",
       "  0.02785036712884903,\n",
       "  0.13142265379428864,\n",
       "  0.5072874426841736,\n",
       "  2.953413724899292,\n",
       "  0.20614662766456604,\n",
       "  0.18729552626609802,\n",
       "  0.00664429971948266,\n",
       "  0.19079768657684326,\n",
       "  0.2940412759780884,\n",
       "  0.24576188623905182,\n",
       "  0.1068679541349411,\n",
       "  0.5266321897506714,\n",
       "  1.1153148412704468,\n",
       "  0.28538548946380615,\n",
       "  0.2262295037508011,\n",
       "  0.012698506005108356,\n",
       "  1.4963687658309937,\n",
       "  0.46360349655151367,\n",
       "  2.356555700302124,\n",
       "  1.459532380104065,\n",
       "  0.08020845055580139,\n",
       "  1.808686375617981,\n",
       "  0.3568406403064728,\n",
       "  1.5568329095840454,\n",
       "  1.3857102394104004,\n",
       "  0.34672561287879944,\n",
       "  0.5948576927185059,\n",
       "  0.0012737145880237222,\n",
       "  0.3454801142215729,\n",
       "  0.8152077198028564,\n",
       "  1.3145084381103516,\n",
       "  0.20174357295036316,\n",
       "  0.7402421832084656,\n",
       "  0.3460676670074463,\n",
       "  0.03515494987368584,\n",
       "  0.09973042458295822,\n",
       "  0.6928026676177979,\n",
       "  0.07752782851457596,\n",
       "  0.13038499653339386,\n",
       "  0.2610301077365875,\n",
       "  0.018997007980942726,\n",
       "  0.5055285096168518,\n",
       "  0.33787935972213745,\n",
       "  1.6032912731170654,\n",
       "  1.6398853063583374,\n",
       "  1.386164903640747,\n",
       "  1.4482753276824951,\n",
       "  0.35941827297210693,\n",
       "  2.27683162689209]}"
      ]
     },
     "execution_count": 16,
     "metadata": {},
     "output_type": "execute_result"
    }
   ],
   "source": [
    "sparse_model = SpladeEncoder() # Initializing spade for sparse embeddings\n",
    "sparse_embeds = sparse_model.encode_queries(ids_context[0][\"context\"]) # Creating a test sparse embedding\n",
    "sparse_embeds # Visualising a sample sparse embedding"
   ]
  },
  {
   "cell_type": "code",
   "execution_count": 37,
   "metadata": {},
   "outputs": [
    {
     "data": {
      "text/plain": [
       "<pinecone.data.index.Index at 0x23fe31a2c50>"
      ]
     },
     "execution_count": 37,
     "metadata": {},
     "output_type": "execute_result"
    }
   ],
   "source": [
    "index = pinecone.Index(\"medical-chatbot\") # Creating an index object for Pinecone vector database having dimension of 768\n",
    "index"
   ]
  },
  {
   "cell_type": "markdown",
   "metadata": {},
   "source": [
    "The index should use DOT product in pinecone to consider sparse vectors"
   ]
  },
  {
   "cell_type": "markdown",
   "metadata": {},
   "source": [
    "## Creating a Vector Database using ***only the contexts***"
   ]
  },
  {
   "cell_type": "code",
   "execution_count": 55,
   "metadata": {},
   "outputs": [
    {
     "name": "stderr",
     "output_type": "stream",
     "text": [
      "100%|██████████| 30/30 [16:44<00:00, 33.49s/it]\n"
     ]
    },
    {
     "data": {
      "text/plain": [
       "{'dimension': 768,\n",
       " 'index_fullness': 0.058,\n",
       " 'namespaces': {'': {'vector_count': 5800}},\n",
       " 'total_vector_count': 5800}"
      ]
     },
     "execution_count": 55,
     "metadata": {},
     "output_type": "execute_result"
    }
   ],
   "source": [
    "batch_size = 200 # Batch size for upserts\n",
    "with tqdm(total = len(ids_context)// batch_size +1) as pbar: # Configuring TQDM for progress\n",
    "    for i in range(0, len(ids_context), batch_size): # Iterating over a batch of context\n",
    "        i_end = min(i+batch_size, len(ids_context)) # Create ending index of the batch\n",
    "        ids = [x[\"id\"] for x in ids_context[i:i_end]] # Create a list of ids for the entire batch\n",
    "        contexts = [x[\"context\"] for x in ids_context[i:i_end]] # Create a list of contexts for the entire batch \n",
    "        sparse_embeds = sparse_model.encode_queries(contexts) # Create sparse embeddings for the entire batch of contexts\n",
    "        dense_embeds = dense_model.encode(contexts) # Create Dense embeddings for the entire batch of contexts\n",
    "        upserts = [] # Create a list to upsert embeddings into vector database\n",
    "        for _id, _context, _sparse, _dense in zip(ids, contexts, sparse_embeds, dense_embeds): # Iterating over each batch\n",
    "            upserts.append({\n",
    "                \"id\":_id,\n",
    "                \"values\": _dense,\n",
    "                \"sparse_values\": _sparse,\n",
    "                \"metadata\": {\"context\":_context}\n",
    "            }) # Generating the batch required for upserts\n",
    "        index.upsert(upserts) # Adding each batch to the vector database at a time\n",
    "        pbar.update(1) # Updating the progress bar\n",
    "        \n",
    "index.describe_index_stats() # Checking the index status"
   ]
  },
  {
   "cell_type": "markdown",
   "metadata": {},
   "source": [
    "## Testing the Vector Database"
   ]
  },
  {
   "cell_type": "code",
   "execution_count": 18,
   "metadata": {},
   "outputs": [
    {
     "name": "stdout",
     "output_type": "stream",
     "text": [
      "Question: Can clinicians use the PHQ-9 to assess depression in people with vision loss?\n",
      "Pubmed Question ID: 19156007\n"
     ]
    },
    {
     "data": {
      "text/plain": [
       "{'matches': [{'id': '19156007 - 0',\n",
       "              'metadata': {'context': 'To investigate whether the Patient '\n",
       "                                      'Health Questionnaire-9 (PHQ-9) '\n",
       "                                      'possesses the essential psychometric '\n",
       "                                      'characteristics to measure depressive '\n",
       "                                      'symptoms in people with visual '\n",
       "                                      'impairment. The PHQ-9 scale was '\n",
       "                                      'completed by 103 participants with low '\n",
       "                                      'vision. These data were then assessed '\n",
       "                                      'for fit to the Rasch model. The '\n",
       "                                      \"participants' mean +/- standard \"\n",
       "                                      'deviation (SD) age was 74.7 +/- 12.2 '\n",
       "                                      'years.'},\n",
       "              'score': 203.634186,\n",
       "              'values': []},\n",
       "             {'id': '18832500 - 1',\n",
       "              'metadata': {'context': 'Findings from the Sequenced Treatments '\n",
       "                                      'Alternatives to Relieve Depression '\n",
       "                                      '(STAR*D) emphasized the importance of '\n",
       "                                      'measurement-based care for the '\n",
       "                                      'treatment of depression as a key '\n",
       "                                      'ingredient for achieving response and '\n",
       "                                      'remission; yet measurement-based care '\n",
       "                                      'approaches are not commonly used in '\n",
       "                                      'clinical practice. The Nine-Item '\n",
       "                                      'Patient Health Questionnaire (PHQ-9) '\n",
       "                                      'for monitoring depression severity was '\n",
       "                                      'introduced in 19 diverse psychiatric '\n",
       "                                      'practices. During the one-year course '\n",
       "                                      'of the project the helpfulness and '\n",
       "                                      'feasibility of implementation of PHQ-9 '\n",
       "                                      'in these psychiatric practices were '\n",
       "                                      'studied.'},\n",
       "              'score': 195.666122,\n",
       "              'values': []},\n",
       "             {'id': '18832500 - 3',\n",
       "              'metadata': {'context': 'The project was modeled after the '\n",
       "                                      'Institute for Healthcare Improvement '\n",
       "                                      'Breakthrough Series. Two of the 19 '\n",
       "                                      'practices dropped out during the course '\n",
       "                                      'of the project. By the conclusion of '\n",
       "                                      'the study, all remaining 17 practices '\n",
       "                                      'had adopted PHQ-9 as a routine part of '\n",
       "                                      'depression care in their practice. On '\n",
       "                                      'the basis of responses from 17 '\n",
       "                                      'psychiatrists from those practices, '\n",
       "                                      'PHQ-9 scores influenced clinical '\n",
       "                                      'decision making for 93% of 6,096 '\n",
       "                                      'patient contacts.'},\n",
       "              'score': 195.508713,\n",
       "              'values': []},\n",
       "             {'id': '18832500 - 4',\n",
       "              'metadata': {'context': 'By the conclusion of the study, all '\n",
       "                                      'remaining 17 practices had adopted '\n",
       "                                      'PHQ-9 as a routine part of depression '\n",
       "                                      'care in their practice. On the basis of '\n",
       "                                      'responses from 17 psychiatrists from '\n",
       "                                      'those practices, PHQ-9 scores '\n",
       "                                      'influenced clinical decision making for '\n",
       "                                      '93% of 6,096 patient contacts. With the '\n",
       "                                      'additional information gained from the '\n",
       "                                      'PHQ-9 score, one or more treatment '\n",
       "                                      'changes occurred during 40% of these '\n",
       "                                      'clinical contacts.'},\n",
       "              'score': 195.340881,\n",
       "              'values': []},\n",
       "             {'id': '18832500 - 2',\n",
       "              'metadata': {'context': 'The Nine-Item Patient Health '\n",
       "                                      'Questionnaire (PHQ-9) for monitoring '\n",
       "                                      'depression severity was introduced in '\n",
       "                                      '19 diverse psychiatric practices. '\n",
       "                                      'During the one-year course of the '\n",
       "                                      'project the helpfulness and feasibility '\n",
       "                                      'of implementation of PHQ-9 in these '\n",
       "                                      'psychiatric practices were studied. The '\n",
       "                                      'project was modeled after the Institute '\n",
       "                                      'for Healthcare Improvement Breakthrough '\n",
       "                                      'Series. Two of the 19 practices dropped '\n",
       "                                      'out during the course of the project.'},\n",
       "              'score': 195.324081,\n",
       "              'values': []}],\n",
       " 'namespace': '',\n",
       " 'usage': {'read_units': 6}}"
      ]
     },
     "execution_count": 18,
     "metadata": {},
     "output_type": "execute_result"
    }
   ],
   "source": [
    "id = 711 # Configure a data id for testing vector database\n",
    "print(f\"Question: {data[id]['question']}\") # Print the medical question for testing the retrieval component\n",
    "print(f\"Pubmed Question ID: {data[id]['pubid']}\") # Print the medical question id\n",
    "vector = dense_model.encode(data[id][\"question\"]).tolist() # Create the vector embeddings of the search query (MEDICAL QUESTION)\n",
    "sparse_vector = sparse_model.encode_queries(data[id][\"question\"]) # Create the sparse embedding of the seach query (MEDICAL QUESTION)\n",
    "result = index.query(\n",
    "    top_k = 5,\n",
    "    vector = vector,\n",
    "    sparse_vector= sparse_vector,\n",
    "    include_metadata=True\n",
    ") # Searching the query for top k results in the vector database\n",
    "result # Print the results from vector database"
   ]
  },
  {
   "cell_type": "markdown",
   "metadata": {},
   "source": [
    "## Testing the Vector Database if the same question is paraphrased"
   ]
  },
  {
   "cell_type": "code",
   "execution_count": 19,
   "metadata": {},
   "outputs": [
    {
     "name": "stdout",
     "output_type": "stream",
     "text": [
      "Question:  For humans with loss of eye-sight, can we depression be assessed by leveraging PHQ-9\n"
     ]
    },
    {
     "data": {
      "text/plain": [
       "{'matches': [{'id': '19156007 - 0',\n",
       "              'metadata': {'context': 'To investigate whether the Patient '\n",
       "                                      'Health Questionnaire-9 (PHQ-9) '\n",
       "                                      'possesses the essential psychometric '\n",
       "                                      'characteristics to measure depressive '\n",
       "                                      'symptoms in people with visual '\n",
       "                                      'impairment. The PHQ-9 scale was '\n",
       "                                      'completed by 103 participants with low '\n",
       "                                      'vision. These data were then assessed '\n",
       "                                      'for fit to the Rasch model. The '\n",
       "                                      \"participants' mean +/- standard \"\n",
       "                                      'deviation (SD) age was 74.7 +/- 12.2 '\n",
       "                                      'years.'},\n",
       "              'score': 204.999908,\n",
       "              'values': []},\n",
       "             {'id': '18832500 - 1',\n",
       "              'metadata': {'context': 'Findings from the Sequenced Treatments '\n",
       "                                      'Alternatives to Relieve Depression '\n",
       "                                      '(STAR*D) emphasized the importance of '\n",
       "                                      'measurement-based care for the '\n",
       "                                      'treatment of depression as a key '\n",
       "                                      'ingredient for achieving response and '\n",
       "                                      'remission; yet measurement-based care '\n",
       "                                      'approaches are not commonly used in '\n",
       "                                      'clinical practice. The Nine-Item '\n",
       "                                      'Patient Health Questionnaire (PHQ-9) '\n",
       "                                      'for monitoring depression severity was '\n",
       "                                      'introduced in 19 diverse psychiatric '\n",
       "                                      'practices. During the one-year course '\n",
       "                                      'of the project the helpfulness and '\n",
       "                                      'feasibility of implementation of PHQ-9 '\n",
       "                                      'in these psychiatric practices were '\n",
       "                                      'studied.'},\n",
       "              'score': 195.447464,\n",
       "              'values': []},\n",
       "             {'id': '18832500 - 2',\n",
       "              'metadata': {'context': 'The Nine-Item Patient Health '\n",
       "                                      'Questionnaire (PHQ-9) for monitoring '\n",
       "                                      'depression severity was introduced in '\n",
       "                                      '19 diverse psychiatric practices. '\n",
       "                                      'During the one-year course of the '\n",
       "                                      'project the helpfulness and feasibility '\n",
       "                                      'of implementation of PHQ-9 in these '\n",
       "                                      'psychiatric practices were studied. The '\n",
       "                                      'project was modeled after the Institute '\n",
       "                                      'for Healthcare Improvement Breakthrough '\n",
       "                                      'Series. Two of the 19 practices dropped '\n",
       "                                      'out during the course of the project.'},\n",
       "              'score': 194.746674,\n",
       "              'values': []},\n",
       "             {'id': '19156007 - 3',\n",
       "              'metadata': {'context': 'Unidimensionality was demonstrated '\n",
       "                                      'confirming the construct validity of '\n",
       "                                      'the PHQ-9 and there was no evidence of '\n",
       "                                      'differential item functioning on a '\n",
       "                                      'number of factors including visual '\n",
       "                                      'disability. The person separation '\n",
       "                                      'reliability value was 0.80 indicating '\n",
       "                                      'that the PHQ-9 has satisfactory '\n",
       "                                      'precision. There was a degree of '\n",
       "                                      'mistargeting as expected in this '\n",
       "                                      'largely non-clinically depressed '\n",
       "                                      'sample.'},\n",
       "              'score': 193.459641,\n",
       "              'values': []},\n",
       "             {'id': '18832500 - 3',\n",
       "              'metadata': {'context': 'The project was modeled after the '\n",
       "                                      'Institute for Healthcare Improvement '\n",
       "                                      'Breakthrough Series. Two of the 19 '\n",
       "                                      'practices dropped out during the course '\n",
       "                                      'of the project. By the conclusion of '\n",
       "                                      'the study, all remaining 17 practices '\n",
       "                                      'had adopted PHQ-9 as a routine part of '\n",
       "                                      'depression care in their practice. On '\n",
       "                                      'the basis of responses from 17 '\n",
       "                                      'psychiatrists from those practices, '\n",
       "                                      'PHQ-9 scores influenced clinical '\n",
       "                                      'decision making for 93% of 6,096 '\n",
       "                                      'patient contacts.'},\n",
       "              'score': 192.711761,\n",
       "              'values': []}],\n",
       " 'namespace': '',\n",
       " 'usage': {'read_units': 6}}"
      ]
     },
     "execution_count": 19,
     "metadata": {},
     "output_type": "execute_result"
    }
   ],
   "source": [
    "query = \"For humans with loss of eye-sight, can we depression be assessed by leveraging PHQ-9\" # Paraphrasing the previous question to retrieve same results\n",
    "print(\"Question: \", query) # Print the paraphrased question\n",
    "vector = dense_model.encode(query).tolist() # Create vector embeddings of the search query (MEDICAL QUESTION)\n",
    "sparse_vector = sparse_model.encode_queries(query) # Create sparse embeddings of the search query (MEDICAL QUESTION)\n",
    "\n",
    "result = index.query(\n",
    "    top_k = 5,\n",
    "    vector = vector,\n",
    "    sparse_vector= sparse_vector,\n",
    "    include_metadata=True\n",
    ") # Searching the query for top k results in the vector database\n",
    "result # Print the results from vector database"
   ]
  },
  {
   "cell_type": "markdown",
   "metadata": {},
   "source": [
    "## Creating **Retrieval augmented Generation (RAG)** pipeline using LANGCHAIN"
   ]
  },
  {
   "cell_type": "code",
   "execution_count": 20,
   "metadata": {},
   "outputs": [],
   "source": [
    "embeddings = SentenceTransformerEmbeddings(model_name=\"msmarco-bert-base-dot-v5\") # Creating a langchain's Sentence Transformer embedding function for the same transformer model"
   ]
  },
  {
   "cell_type": "code",
   "execution_count": 38,
   "metadata": {},
   "outputs": [],
   "source": [
    "db = pc(index = index, \n",
    "        embedding = embeddings,\n",
    "        text_key = \"context\") # Creating a Pinecone vector database object for the same vector database using Langchain"
   ]
  },
  {
   "cell_type": "code",
   "execution_count": 39,
   "metadata": {},
   "outputs": [
    {
     "data": {
      "text/plain": [
       "[Document(page_content=\"To investigate whether the Patient Health Questionnaire-9 (PHQ-9) possesses the essential psychometric characteristics to measure depressive symptoms in people with visual impairment. The PHQ-9 scale was completed by 103 participants with low vision. These data were then assessed for fit to the Rasch model. The participants' mean +/- standard deviation (SD) age was 74.7 +/- 12.2 years.\"),\n",
       " Document(page_content='Findings from the Sequenced Treatments Alternatives to Relieve Depression (STAR*D) emphasized the importance of measurement-based care for the treatment of depression as a key ingredient for achieving response and remission; yet measurement-based care approaches are not commonly used in clinical practice. The Nine-Item Patient Health Questionnaire (PHQ-9) for monitoring depression severity was introduced in 19 diverse psychiatric practices. During the one-year course of the project the helpfulness and feasibility of implementation of PHQ-9 in these psychiatric practices were studied.'),\n",
       " Document(page_content='The Nine-Item Patient Health Questionnaire (PHQ-9) for monitoring depression severity was introduced in 19 diverse psychiatric practices. During the one-year course of the project the helpfulness and feasibility of implementation of PHQ-9 in these psychiatric practices were studied. The project was modeled after the Institute for Healthcare Improvement Breakthrough Series. Two of the 19 practices dropped out during the course of the project.'),\n",
       " Document(page_content='Unidimensionality was demonstrated confirming the construct validity of the PHQ-9 and there was no evidence of differential item functioning on a number of factors including visual disability. The person separation reliability value was 0.80 indicating that the PHQ-9 has satisfactory precision. There was a degree of mistargeting as expected in this largely non-clinically depressed sample.'),\n",
       " Document(page_content='The project was modeled after the Institute for Healthcare Improvement Breakthrough Series. Two of the 19 practices dropped out during the course of the project. By the conclusion of the study, all remaining 17 practices had adopted PHQ-9 as a routine part of depression care in their practice. On the basis of responses from 17 psychiatrists from those practices, PHQ-9 scores influenced clinical decision making for 93% of 6,096 patient contacts.')]"
      ]
     },
     "execution_count": 39,
     "metadata": {},
     "output_type": "execute_result"
    }
   ],
   "source": [
    "db.similarity_search(query, k = 5) # Searching the same query (MEDICAL QUESTION)"
   ]
  },
  {
   "cell_type": "code",
   "execution_count": 32,
   "metadata": {},
   "outputs": [],
   "source": [
    "llm = ChatOpenAI(temperature = 0, model = \"gpt-3.5-turbo\") # Creating a LLM object for RAG pipeline\n",
    "qa = RetrievalQA.from_chain_type(llm = llm, chain_type= \"stuff\", retriever = db.as_retriever()) # Generating RAG pipeline"
   ]
  },
  {
   "cell_type": "code",
   "execution_count": 33,
   "metadata": {},
   "outputs": [
    {
     "data": {
      "text/plain": [
       "{'query': 'For humans with loss of eye-sight, can we depression be assessed by leveraging PHQ-9',\n",
       " 'result': 'Yes, the Patient Health Questionnaire-9 (PHQ-9) has been used to assess depressive symptoms in people with visual impairment. The study mentioned in the context assessed the fit of PHQ-9 data to the Rasch model in participants with low vision, confirming its construct validity and reliability in this population.'}"
      ]
     },
     "execution_count": 33,
     "metadata": {},
     "output_type": "execute_result"
    }
   ],
   "source": [
    "result = qa.invoke(query) # Searching the same query (MEDICAL QUESTION)\n",
    "result # Print the results from RAG pipeline"
   ]
  },
  {
   "cell_type": "code",
   "execution_count": 34,
   "metadata": {},
   "outputs": [
    {
     "name": "stdout",
     "output_type": "stream",
     "text": [
      "Question: For humans with loss of eye-sight, can we depression be assessed by leveraging PHQ-9\n",
      "Original Question: Can clinicians use the PHQ-9 to assess depression in people with vision loss?\n",
      "Ground Truth answer: Our findings demonstrate that the PHQ-9, when scaled with Rasch analysis, forms a linear interval measurement of depressive symptoms suitable for use in a vision impaired population.\n",
      "Predicted Result: Yes, the Patient Health Questionnaire-9 (PHQ-9) has been used to assess depressive symptoms in people with visual impairment. The study mentioned in the context assessed the fit of PHQ-9 data to the Rasch model in participants with low vision, confirming its construct validity and reliability in this population.\n"
     ]
    }
   ],
   "source": [
    "print(f\"Question: {query}\") # Print the paraphased medical question\n",
    "print(f\"Original Question: {data[id]['question']}\") # Print the original question\n",
    "print(f\"Ground Truth answer: {data[id]['long_answer']}\") # Print the Ground truth answer from the original dataset\n",
    "print(f\"Predicted Result: {result['result']}\") # Print the answer generated from the RAG pipeline"
   ]
  },
  {
   "cell_type": "markdown",
   "metadata": {},
   "source": [
    "## Evaluating the RAG pipeline using **RAGAS**"
   ]
  },
  {
   "cell_type": "code",
   "execution_count": 61,
   "metadata": {},
   "outputs": [
    {
     "data": {
      "text/html": [
       "<div>\n",
       "<style scoped>\n",
       "    .dataframe tbody tr th:only-of-type {\n",
       "        vertical-align: middle;\n",
       "    }\n",
       "\n",
       "    .dataframe tbody tr th {\n",
       "        vertical-align: top;\n",
       "    }\n",
       "\n",
       "    .dataframe thead th {\n",
       "        text-align: right;\n",
       "    }\n",
       "</style>\n",
       "<table border=\"1\" class=\"dataframe\">\n",
       "  <thead>\n",
       "    <tr style=\"text-align: right;\">\n",
       "      <th></th>\n",
       "      <th>id</th>\n",
       "      <th>question</th>\n",
       "      <th>contexts</th>\n",
       "      <th>ground_truth</th>\n",
       "      <th>answer</th>\n",
       "    </tr>\n",
       "  </thead>\n",
       "  <tbody>\n",
       "    <tr>\n",
       "      <th>0</th>\n",
       "      <td>21881325</td>\n",
       "      <td>Do preoperative statins reduce atrial fibrilla...</td>\n",
       "      <td>[Recent studies have demonstrated that statins...</td>\n",
       "      <td>Our study indicated that preoperative statin t...</td>\n",
       "      <td>Yes, recent studies have shown that preoperati...</td>\n",
       "    </tr>\n",
       "    <tr>\n",
       "      <th>1</th>\n",
       "      <td>22656647</td>\n",
       "      <td>Are acceptance rates of a national preventive ...</td>\n",
       "      <td>[Information on preventive home visit acceptan...</td>\n",
       "      <td>High socioeconomic status was associated with ...</td>\n",
       "      <td>Yes, the acceptance rates of a national preven...</td>\n",
       "    </tr>\n",
       "    <tr>\n",
       "      <th>2</th>\n",
       "      <td>24939676</td>\n",
       "      <td>Does ultrasound-scored synovitis depend on the...</td>\n",
       "      <td>[The aim of this study was to investigate the ...</td>\n",
       "      <td>Our results suggested that s.c. anti-TNF pharm...</td>\n",
       "      <td>Yes, the study aimed to investigate the influe...</td>\n",
       "    </tr>\n",
       "    <tr>\n",
       "      <th>3</th>\n",
       "      <td>26965932</td>\n",
       "      <td>Is Bare-Metal Stent Implantation Still Justifi...</td>\n",
       "      <td>[This study sought to investigate the ischemic...</td>\n",
       "      <td>Among HBR patients with stable or unstable cor...</td>\n",
       "      <td>The study mentioned in the context does compar...</td>\n",
       "    </tr>\n",
       "    <tr>\n",
       "      <th>4</th>\n",
       "      <td>9920954</td>\n",
       "      <td>Do \"America's Best Hospitals\" perform better f...</td>\n",
       "      <td>[\"America's Best Hospitals,\" an influential li...</td>\n",
       "      <td>Admission to a hospital ranked high on the lis...</td>\n",
       "      <td>Based on the information provided, it appears ...</td>\n",
       "    </tr>\n",
       "    <tr>\n",
       "      <th>5</th>\n",
       "      <td>25228241</td>\n",
       "      <td>Elephant trunk in a small-calibre true lumen f...</td>\n",
       "      <td>[The elephant trunk technique for aortic disse...</td>\n",
       "      <td>A folded elephant trunk in a small-calibre lum...</td>\n",
       "      <td>The cause of haemolytic anaemia in the case of...</td>\n",
       "    </tr>\n",
       "    <tr>\n",
       "      <th>6</th>\n",
       "      <td>19302863</td>\n",
       "      <td>Is the use of cyanoacrylate in intestinal anas...</td>\n",
       "      <td>[Intestinal anastomosis was performed by polyg...</td>\n",
       "      <td>Better healing, shorter AT, and equal strength...</td>\n",
       "      <td>Based on the provided context, the study compa...</td>\n",
       "    </tr>\n",
       "    <tr>\n",
       "      <th>7</th>\n",
       "      <td>21880023</td>\n",
       "      <td>Does exercise during pregnancy prevent postnat...</td>\n",
       "      <td>[To study whether exercise during pregnancy re...</td>\n",
       "      <td>We did not find a lower prevalence of high EPD...</td>\n",
       "      <td>Based on the provided context, the study condu...</td>\n",
       "    </tr>\n",
       "    <tr>\n",
       "      <th>8</th>\n",
       "      <td>10811329</td>\n",
       "      <td>Are 99mTc leukocyte scintigraphy and SBFT stud...</td>\n",
       "      <td>[The goal of this retrospective study was to a...</td>\n",
       "      <td>Our results suggest that 99mTc-WBC is useful a...</td>\n",
       "      <td>Based on the information provided, it appears ...</td>\n",
       "    </tr>\n",
       "    <tr>\n",
       "      <th>9</th>\n",
       "      <td>23052500</td>\n",
       "      <td>Staging laparoscopy in patients with hepatocel...</td>\n",
       "      <td>[Staging laparoscopy (SL) is not regularly per...</td>\n",
       "      <td>The overall yield of SL for HCC was 7 %, and t...</td>\n",
       "      <td>Based on the provided context, staging laparos...</td>\n",
       "    </tr>\n",
       "  </tbody>\n",
       "</table>\n",
       "</div>"
      ],
      "text/plain": [
       "         id                                           question  \\\n",
       "0  21881325  Do preoperative statins reduce atrial fibrilla...   \n",
       "1  22656647  Are acceptance rates of a national preventive ...   \n",
       "2  24939676  Does ultrasound-scored synovitis depend on the...   \n",
       "3  26965932  Is Bare-Metal Stent Implantation Still Justifi...   \n",
       "4   9920954  Do \"America's Best Hospitals\" perform better f...   \n",
       "5  25228241  Elephant trunk in a small-calibre true lumen f...   \n",
       "6  19302863  Is the use of cyanoacrylate in intestinal anas...   \n",
       "7  21880023  Does exercise during pregnancy prevent postnat...   \n",
       "8  10811329  Are 99mTc leukocyte scintigraphy and SBFT stud...   \n",
       "9  23052500  Staging laparoscopy in patients with hepatocel...   \n",
       "\n",
       "                                            contexts  \\\n",
       "0  [Recent studies have demonstrated that statins...   \n",
       "1  [Information on preventive home visit acceptan...   \n",
       "2  [The aim of this study was to investigate the ...   \n",
       "3  [This study sought to investigate the ischemic...   \n",
       "4  [\"America's Best Hospitals,\" an influential li...   \n",
       "5  [The elephant trunk technique for aortic disse...   \n",
       "6  [Intestinal anastomosis was performed by polyg...   \n",
       "7  [To study whether exercise during pregnancy re...   \n",
       "8  [The goal of this retrospective study was to a...   \n",
       "9  [Staging laparoscopy (SL) is not regularly per...   \n",
       "\n",
       "                                        ground_truth  \\\n",
       "0  Our study indicated that preoperative statin t...   \n",
       "1  High socioeconomic status was associated with ...   \n",
       "2  Our results suggested that s.c. anti-TNF pharm...   \n",
       "3  Among HBR patients with stable or unstable cor...   \n",
       "4  Admission to a hospital ranked high on the lis...   \n",
       "5  A folded elephant trunk in a small-calibre lum...   \n",
       "6  Better healing, shorter AT, and equal strength...   \n",
       "7  We did not find a lower prevalence of high EPD...   \n",
       "8  Our results suggest that 99mTc-WBC is useful a...   \n",
       "9  The overall yield of SL for HCC was 7 %, and t...   \n",
       "\n",
       "                                              answer  \n",
       "0  Yes, recent studies have shown that preoperati...  \n",
       "1  Yes, the acceptance rates of a national preven...  \n",
       "2  Yes, the study aimed to investigate the influe...  \n",
       "3  The study mentioned in the context does compar...  \n",
       "4  Based on the information provided, it appears ...  \n",
       "5  The cause of haemolytic anaemia in the case of...  \n",
       "6  Based on the provided context, the study compa...  \n",
       "7  Based on the provided context, the study condu...  \n",
       "8  Based on the information provided, it appears ...  \n",
       "9  Based on the provided context, staging laparos...  "
      ]
     },
     "execution_count": 61,
     "metadata": {},
     "output_type": "execute_result"
    }
   ],
   "source": [
    "eval_data = [] # Creating a list of ids, Medical Questions, List of Retrieved Contexts, Ground Truth answers and the predicted response from LLM\n",
    "for i in range(10): # Iterating for 10 test records\n",
    "    id = np.random.randint(0,1000) # Creating a random id for medical question\n",
    "    eval_data.append({\n",
    "       \"id\": data[id][\"pubid\"],\n",
    "       \"question\" : data[id][\"question\"],\n",
    "       \"contexts\": [x.page_content for x in db.similarity_search(data[id][\"question\"], k = 5)],\n",
    "       \"ground_truth\": data[id][\"long_answer\"],\n",
    "       \"answer\" : qa.invoke(data[id][\"question\"])[\"result\"] \n",
    "    }) # Generating the required list for evaluation\n",
    "eval_data = pd.json_normalize(eval_data) # Creating a dataframe for evaluation\n",
    "eval_data # View the evaluation dataframe"
   ]
  },
  {
   "cell_type": "code",
   "execution_count": 62,
   "metadata": {},
   "outputs": [
    {
     "data": {
      "text/plain": [
       "'Do preoperative statins reduce atrial fibrillation after coronary artery bypass grafting?'"
      ]
     },
     "execution_count": 62,
     "metadata": {},
     "output_type": "execute_result"
    }
   ],
   "source": [
    "eval_data[\"question\"][0] # Print the first question"
   ]
  },
  {
   "cell_type": "code",
   "execution_count": 63,
   "metadata": {},
   "outputs": [
    {
     "data": {
      "text/plain": [
       "['Recent studies have demonstrated that statins have pleiotropic effects, including anti-inflammatory effects and atrial fibrillation (AF) preventive effects. The objective of this study was to assess the efficacy of preoperative statin therapy in preventing AF after coronary artery bypass grafting (CABG). 221 patients underwent CABG in our hospital from 2004 to 2007. 14 patients with preoperative AF and 4 patients with concomitant valve surgery were excluded from this study.',\n",
       " '221 patients underwent CABG in our hospital from 2004 to 2007. 14 patients with preoperative AF and 4 patients with concomitant valve surgery were excluded from this study. Patients were divided into two groups to examine the influence of statins: those with preoperative statin therapy (Statin group, n = 77) and those without it (Non-statin group, n = 126). In addition, patients were divided into two groups to determine the independent predictors for postoperative AF: those with postoperative AF (AF group, n = 54) and those without it (Non-AF group, n = 149).',\n",
       " 'Desmopressin releases tissue-type plasminogen activator, which augments cardiopulmonary bypass--associated hyperfibrinolysis, causing excessive bleeding. Combined use of desmopressin with prior administration of the antifibrinolytic drug tranexamic acid may decrease fibrinolytic activity and might improve postoperative hemostasis. This prospective randomized study was carried out with 100 patients undergoing coronary artery bypass operations between April 1999 and November 2000 in Gülhane Military Medical Academy.',\n",
       " 'The study goal was to determine whether pre-operative fasting blood glucose (fB-glu) is associated with an increased mortality after coronary artery bypass grafting (CABG). During 2001-03, 1895 patients underwent primary CABG [clinical DM (CDM) in 440/1895; complete data on fB-glu for n=1375/1455]. Using pre-operative fB-glu, non-diabetics were categorized as having normal fB-glu (<5.',\n",
       " 'Combined use of desmopressin with prior administration of the antifibrinolytic drug tranexamic acid may decrease fibrinolytic activity and might improve postoperative hemostasis. This prospective randomized study was carried out with 100 patients undergoing coronary artery bypass operations between April 1999 and November 2000 in Gülhane Military Medical Academy. Patients were divided into 2 groups.']"
      ]
     },
     "execution_count": 63,
     "metadata": {},
     "output_type": "execute_result"
    }
   ],
   "source": [
    "eval_data[\"contexts\"][0] # Print the list of retrieved contexts for the first medical question"
   ]
  },
  {
   "cell_type": "code",
   "execution_count": 64,
   "metadata": {},
   "outputs": [
    {
     "data": {
      "text/plain": [
       "'Our study indicated that preoperative statin therapy seems to reduce AF development after CABG.'"
      ]
     },
     "execution_count": 64,
     "metadata": {},
     "output_type": "execute_result"
    }
   ],
   "source": [
    "eval_data[\"ground_truth\"][0] # Print the ground truth answer"
   ]
  },
  {
   "cell_type": "code",
   "execution_count": 65,
   "metadata": {},
   "outputs": [
    {
     "data": {
      "text/plain": [
       "'Yes, recent studies have shown that preoperative statin therapy may reduce the incidence of atrial fibrillation after coronary artery bypass grafting (CABG). In the study mentioned, patients who received preoperative statin therapy had a lower incidence of postoperative AF compared to those who did not receive statins.'"
      ]
     },
     "execution_count": 65,
     "metadata": {},
     "output_type": "execute_result"
    }
   ],
   "source": [
    "eval_data[\"answer\"][0] # Print the Predicted response from RAG pipeline"
   ]
  },
  {
   "cell_type": "markdown",
   "metadata": {},
   "source": [
    "## Retrieval Metrics"
   ]
  },
  {
   "cell_type": "markdown",
   "metadata": {},
   "source": [
    "Retrieval is the first step in a RAG pipeline, so we will focus on metrics that assess retrieval first. For that we primarily want to focus on `context_recall` and `context_precision` but before diving into these metrics we must understand what it is that they will be measuring.\n",
    "\n",
    "### Actual vs. Predicted\n",
    "\n",
    "When evaluating the performance of retrieval systems we tend to compare the _actual_ (ground truth) to _predicted_ results. We define these as:\n",
    "\n",
    "* **Actual condition** is the true label of every context in the dataset. These are _positive_ ($p$) if the context is relevant to our query or _negative_ ($n$) if the context is _ir_relevant to our query.\n",
    "\n",
    "* **Predicted condition** is the _predicted_ label determined by our retrieval system. If a context is returned it is a predicted _positive_, ie $\\hat{p}$. If a context is not returned it is a predicted _negative_, ie $\\hat{n}$.\n",
    "\n",
    "Given these conditions, we can say the following:\n",
    "\n",
    "* $p\\hat{p}$ is a **true positive**, meaning a relevant result has been returned.\n",
    "* $n\\hat{n}$ is a **true negative**, meaning an irrelevant result was not returned\n",
    "* $n\\hat{p}$ is a **false positive**, meaning an irrelevant result has been returned.\n",
    "* $p\\hat{n}$ is a **false negative**, meaning an relevant result has _not_ been returned.\n",
    "\n",
    "Let's see how these apply to our metrics in RAGAS."
   ]
  },
  {
   "cell_type": "markdown",
   "metadata": {},
   "source": [
    "#### Context Recall\n",
    "Context recall (or just _recall_) is a measure of how many of the relevant records in a dataset have been retrieved. It is calculated as:\n",
    "\n",
    "$$\n",
    "Recall@K = \\frac{p\\hat{p}}{p\\hat{p} + n\\hat{n}} = \\frac{Relevant \\: contexts \\: retrieved}{Total \\: number \\: of \\: relevant \\: contexts}\n",
    "$$\n",
    "\n",
    "RAGAS calculates _Recall@K_ for recall, where the _@K_ represents the number of contexts returned. As the @K value is increased the recall scores will improve (as the capture size of the retrieval step increases). At it's extreme we could set @K equal to the size of the dataset to guarantee perfect recall — although this negates the point of RAG in the first place.\n",
    "\n",
    "By default, RAGAS uses a _@K_ value of `5`."
   ]
  },
  {
   "cell_type": "markdown",
   "metadata": {},
   "source": [
    "### Context Precision \n",
    "\n",
    "Context precision (or just _precision_) is another popular retrieval metric. We typically see both recall and precision paired together when evaluating retrieval systems.\n",
    "\n",
    "As with recall, the actual metric here is called _Precision@K_ where @K represents the number of contexts returned. However, unlike recall, precision is focusing on the number of relevant results returned compared to the total results returned, whether they are relevant or not — this is equal to our chosen _@K_ value.\n",
    "\n",
    "$$\n",
    "Precision@K = \\frac{p\\hat{p}}{p\\hat{p} + p\\hat{n}} = \\frac{Relevant \\: contexts \\: retrieved}{Total \\: number \\: of \\: relevant \\: contexts}"
   ]
  },
  {
   "cell_type": "markdown",
   "metadata": {},
   "source": [
    "## Generation Metrics"
   ]
  },
  {
   "cell_type": "markdown",
   "metadata": {},
   "source": [
    "### Faithfullness\n",
    "\n",
    "The _faithfullness_ metric measures (from _0_ to _1_) the factual consistency of an answer when compared to the retrieved context. A score of _1_ means all claims in the answer can be found in the context. A score of _0_ would indicate _no_ claims in the answer are found in the context.\n",
    "\n",
    "We calculate the faithfullness like so:\n",
    "\n",
    "$$\n",
    "Faithfulness = \\frac{Number \\: of \\: claims \\: in \\: answer \\: also \\: found \\: in \\: context}{Number \\: of \\: claims \\: in \\: answer}\n",
    "$$"
   ]
  },
  {
   "cell_type": "markdown",
   "metadata": {},
   "source": [
    "### Answer Relevancy\n",
    "\n",
    "Answer relevancy is our final metric. It focuses on the generation component and is similar to our \"context precision\" metric in that it measures how much of the returned information is relevant to our original question.\n",
    "\n",
    "We return a low answer relevancy score when:\n",
    "\n",
    "* Answers are incomplete.\n",
    "\n",
    "* Answers contain redundant information.\n",
    "\n",
    "A high answer relevancy score indicates that an answer is concise and does not contain \"fluff\" (ie irrelevant information).\n",
    "\n",
    "The score is calculated by asking an LLM to generate multiple questions for a generated answer and then calculating the cosine similarity between the original question and the generated questions. Naturally, if we have a concise answer that answers a very specific question, we should find that the generated question will have a high cosine similarity to the original question."
   ]
  },
  {
   "cell_type": "code",
   "execution_count": 66,
   "metadata": {},
   "outputs": [
    {
     "name": "stderr",
     "output_type": "stream",
     "text": [
      "Evaluating: 100%|██████████| 70/70 [01:12<00:00,  1.04s/it]\n"
     ]
    }
   ],
   "source": [
    "ragas_eval = Dataset.from_dict(eval_data) # Generating a dataset object for RAG evaluation\n",
    "result = evaluate(\n",
    "    dataset=ragas_eval,\n",
    "    metrics=[\n",
    "        faithfulness,\n",
    "        answer_relevancy,\n",
    "        context_precision,\n",
    "        context_relevancy,\n",
    "        context_recall,\n",
    "        answer_similarity,\n",
    "        answer_correctness,\n",
    "    ],\n",
    ")\n",
    "result = result.to_pandas() # Converting the results into Pandas dataframe"
   ]
  },
  {
   "cell_type": "code",
   "execution_count": 67,
   "metadata": {},
   "outputs": [
    {
     "data": {
      "text/html": [
       "<div>\n",
       "<style scoped>\n",
       "    .dataframe tbody tr th:only-of-type {\n",
       "        vertical-align: middle;\n",
       "    }\n",
       "\n",
       "    .dataframe tbody tr th {\n",
       "        vertical-align: top;\n",
       "    }\n",
       "\n",
       "    .dataframe thead th {\n",
       "        text-align: right;\n",
       "    }\n",
       "</style>\n",
       "<table border=\"1\" class=\"dataframe\">\n",
       "  <thead>\n",
       "    <tr style=\"text-align: right;\">\n",
       "      <th></th>\n",
       "      <th>id</th>\n",
       "      <th>question</th>\n",
       "      <th>contexts</th>\n",
       "      <th>ground_truth</th>\n",
       "      <th>answer</th>\n",
       "      <th>faithfulness</th>\n",
       "      <th>answer_relevancy</th>\n",
       "      <th>context_precision</th>\n",
       "      <th>context_relevancy</th>\n",
       "      <th>context_recall</th>\n",
       "      <th>answer_similarity</th>\n",
       "      <th>answer_correctness</th>\n",
       "    </tr>\n",
       "  </thead>\n",
       "  <tbody>\n",
       "    <tr>\n",
       "      <th>0</th>\n",
       "      <td>21881325</td>\n",
       "      <td>Do preoperative statins reduce atrial fibrilla...</td>\n",
       "      <td>[Recent studies have demonstrated that statins...</td>\n",
       "      <td>Our study indicated that preoperative statin t...</td>\n",
       "      <td>Yes, recent studies have shown that preoperati...</td>\n",
       "      <td>1.000000</td>\n",
       "      <td>0.946651</td>\n",
       "      <td>0.950000</td>\n",
       "      <td>0.235294</td>\n",
       "      <td>1.0</td>\n",
       "      <td>0.946913</td>\n",
       "      <td>0.665300</td>\n",
       "    </tr>\n",
       "    <tr>\n",
       "      <th>1</th>\n",
       "      <td>22656647</td>\n",
       "      <td>Are acceptance rates of a national preventive ...</td>\n",
       "      <td>[Information on preventive home visit acceptan...</td>\n",
       "      <td>High socioeconomic status was associated with ...</td>\n",
       "      <td>Yes, the acceptance rates of a national preven...</td>\n",
       "      <td>1.000000</td>\n",
       "      <td>0.935775</td>\n",
       "      <td>1.000000</td>\n",
       "      <td>0.235294</td>\n",
       "      <td>1.0</td>\n",
       "      <td>0.945586</td>\n",
       "      <td>0.836396</td>\n",
       "    </tr>\n",
       "    <tr>\n",
       "      <th>2</th>\n",
       "      <td>24939676</td>\n",
       "      <td>Does ultrasound-scored synovitis depend on the...</td>\n",
       "      <td>[The aim of this study was to investigate the ...</td>\n",
       "      <td>Our results suggested that s.c. anti-TNF pharm...</td>\n",
       "      <td>Yes, the study aimed to investigate the influe...</td>\n",
       "      <td>0.666667</td>\n",
       "      <td>0.765462</td>\n",
       "      <td>1.000000</td>\n",
       "      <td>0.000000</td>\n",
       "      <td>1.0</td>\n",
       "      <td>0.892874</td>\n",
       "      <td>0.823219</td>\n",
       "    </tr>\n",
       "    <tr>\n",
       "      <th>3</th>\n",
       "      <td>26965932</td>\n",
       "      <td>Is Bare-Metal Stent Implantation Still Justifi...</td>\n",
       "      <td>[This study sought to investigate the ischemic...</td>\n",
       "      <td>Among HBR patients with stable or unstable cor...</td>\n",
       "      <td>The study mentioned in the context does compar...</td>\n",
       "      <td>1.000000</td>\n",
       "      <td>0.746774</td>\n",
       "      <td>1.000000</td>\n",
       "      <td>0.000000</td>\n",
       "      <td>1.0</td>\n",
       "      <td>0.923360</td>\n",
       "      <td>0.730840</td>\n",
       "    </tr>\n",
       "    <tr>\n",
       "      <th>4</th>\n",
       "      <td>9920954</td>\n",
       "      <td>Do \"America's Best Hospitals\" perform better f...</td>\n",
       "      <td>[\"America's Best Hospitals,\" an influential li...</td>\n",
       "      <td>Admission to a hospital ranked high on the lis...</td>\n",
       "      <td>Based on the information provided, it appears ...</td>\n",
       "      <td>1.000000</td>\n",
       "      <td>0.904950</td>\n",
       "      <td>1.000000</td>\n",
       "      <td>0.571429</td>\n",
       "      <td>1.0</td>\n",
       "      <td>0.942434</td>\n",
       "      <td>0.535608</td>\n",
       "    </tr>\n",
       "    <tr>\n",
       "      <th>5</th>\n",
       "      <td>25228241</td>\n",
       "      <td>Elephant trunk in a small-calibre true lumen f...</td>\n",
       "      <td>[The elephant trunk technique for aortic disse...</td>\n",
       "      <td>A folded elephant trunk in a small-calibre lum...</td>\n",
       "      <td>The cause of haemolytic anaemia in the case of...</td>\n",
       "      <td>0.500000</td>\n",
       "      <td>0.979047</td>\n",
       "      <td>1.000000</td>\n",
       "      <td>0.200000</td>\n",
       "      <td>0.5</td>\n",
       "      <td>0.941417</td>\n",
       "      <td>0.610354</td>\n",
       "    </tr>\n",
       "    <tr>\n",
       "      <th>6</th>\n",
       "      <td>19302863</td>\n",
       "      <td>Is the use of cyanoacrylate in intestinal anas...</td>\n",
       "      <td>[Intestinal anastomosis was performed by polyg...</td>\n",
       "      <td>Better healing, shorter AT, and equal strength...</td>\n",
       "      <td>Based on the provided context, the study compa...</td>\n",
       "      <td>0.333333</td>\n",
       "      <td>0.000000</td>\n",
       "      <td>1.000000</td>\n",
       "      <td>0.000000</td>\n",
       "      <td>1.0</td>\n",
       "      <td>0.936304</td>\n",
       "      <td>0.234080</td>\n",
       "    </tr>\n",
       "    <tr>\n",
       "      <th>7</th>\n",
       "      <td>21880023</td>\n",
       "      <td>Does exercise during pregnancy prevent postnat...</td>\n",
       "      <td>[To study whether exercise during pregnancy re...</td>\n",
       "      <td>We did not find a lower prevalence of high EPD...</td>\n",
       "      <td>Based on the provided context, the study condu...</td>\n",
       "      <td>1.000000</td>\n",
       "      <td>0.932583</td>\n",
       "      <td>0.887500</td>\n",
       "      <td>0.000000</td>\n",
       "      <td>1.0</td>\n",
       "      <td>0.941375</td>\n",
       "      <td>0.835344</td>\n",
       "    </tr>\n",
       "    <tr>\n",
       "      <th>8</th>\n",
       "      <td>10811329</td>\n",
       "      <td>Are 99mTc leukocyte scintigraphy and SBFT stud...</td>\n",
       "      <td>[The goal of this retrospective study was to a...</td>\n",
       "      <td>Our results suggest that 99mTc-WBC is useful a...</td>\n",
       "      <td>Based on the information provided, it appears ...</td>\n",
       "      <td>1.000000</td>\n",
       "      <td>0.920607</td>\n",
       "      <td>1.000000</td>\n",
       "      <td>0.312500</td>\n",
       "      <td>1.0</td>\n",
       "      <td>0.911089</td>\n",
       "      <td>0.870621</td>\n",
       "    </tr>\n",
       "    <tr>\n",
       "      <th>9</th>\n",
       "      <td>23052500</td>\n",
       "      <td>Staging laparoscopy in patients with hepatocel...</td>\n",
       "      <td>[Staging laparoscopy (SL) is not regularly per...</td>\n",
       "      <td>The overall yield of SL for HCC was 7 %, and t...</td>\n",
       "      <td>Based on the provided context, staging laparos...</td>\n",
       "      <td>1.000000</td>\n",
       "      <td>0.967925</td>\n",
       "      <td>0.833333</td>\n",
       "      <td>0.150000</td>\n",
       "      <td>1.0</td>\n",
       "      <td>0.892055</td>\n",
       "      <td>0.785514</td>\n",
       "    </tr>\n",
       "  </tbody>\n",
       "</table>\n",
       "</div>"
      ],
      "text/plain": [
       "         id                                           question  \\\n",
       "0  21881325  Do preoperative statins reduce atrial fibrilla...   \n",
       "1  22656647  Are acceptance rates of a national preventive ...   \n",
       "2  24939676  Does ultrasound-scored synovitis depend on the...   \n",
       "3  26965932  Is Bare-Metal Stent Implantation Still Justifi...   \n",
       "4   9920954  Do \"America's Best Hospitals\" perform better f...   \n",
       "5  25228241  Elephant trunk in a small-calibre true lumen f...   \n",
       "6  19302863  Is the use of cyanoacrylate in intestinal anas...   \n",
       "7  21880023  Does exercise during pregnancy prevent postnat...   \n",
       "8  10811329  Are 99mTc leukocyte scintigraphy and SBFT stud...   \n",
       "9  23052500  Staging laparoscopy in patients with hepatocel...   \n",
       "\n",
       "                                            contexts  \\\n",
       "0  [Recent studies have demonstrated that statins...   \n",
       "1  [Information on preventive home visit acceptan...   \n",
       "2  [The aim of this study was to investigate the ...   \n",
       "3  [This study sought to investigate the ischemic...   \n",
       "4  [\"America's Best Hospitals,\" an influential li...   \n",
       "5  [The elephant trunk technique for aortic disse...   \n",
       "6  [Intestinal anastomosis was performed by polyg...   \n",
       "7  [To study whether exercise during pregnancy re...   \n",
       "8  [The goal of this retrospective study was to a...   \n",
       "9  [Staging laparoscopy (SL) is not regularly per...   \n",
       "\n",
       "                                        ground_truth  \\\n",
       "0  Our study indicated that preoperative statin t...   \n",
       "1  High socioeconomic status was associated with ...   \n",
       "2  Our results suggested that s.c. anti-TNF pharm...   \n",
       "3  Among HBR patients with stable or unstable cor...   \n",
       "4  Admission to a hospital ranked high on the lis...   \n",
       "5  A folded elephant trunk in a small-calibre lum...   \n",
       "6  Better healing, shorter AT, and equal strength...   \n",
       "7  We did not find a lower prevalence of high EPD...   \n",
       "8  Our results suggest that 99mTc-WBC is useful a...   \n",
       "9  The overall yield of SL for HCC was 7 %, and t...   \n",
       "\n",
       "                                              answer  faithfulness  \\\n",
       "0  Yes, recent studies have shown that preoperati...      1.000000   \n",
       "1  Yes, the acceptance rates of a national preven...      1.000000   \n",
       "2  Yes, the study aimed to investigate the influe...      0.666667   \n",
       "3  The study mentioned in the context does compar...      1.000000   \n",
       "4  Based on the information provided, it appears ...      1.000000   \n",
       "5  The cause of haemolytic anaemia in the case of...      0.500000   \n",
       "6  Based on the provided context, the study compa...      0.333333   \n",
       "7  Based on the provided context, the study condu...      1.000000   \n",
       "8  Based on the information provided, it appears ...      1.000000   \n",
       "9  Based on the provided context, staging laparos...      1.000000   \n",
       "\n",
       "   answer_relevancy  context_precision  context_relevancy  context_recall  \\\n",
       "0          0.946651           0.950000           0.235294             1.0   \n",
       "1          0.935775           1.000000           0.235294             1.0   \n",
       "2          0.765462           1.000000           0.000000             1.0   \n",
       "3          0.746774           1.000000           0.000000             1.0   \n",
       "4          0.904950           1.000000           0.571429             1.0   \n",
       "5          0.979047           1.000000           0.200000             0.5   \n",
       "6          0.000000           1.000000           0.000000             1.0   \n",
       "7          0.932583           0.887500           0.000000             1.0   \n",
       "8          0.920607           1.000000           0.312500             1.0   \n",
       "9          0.967925           0.833333           0.150000             1.0   \n",
       "\n",
       "   answer_similarity  answer_correctness  \n",
       "0           0.946913            0.665300  \n",
       "1           0.945586            0.836396  \n",
       "2           0.892874            0.823219  \n",
       "3           0.923360            0.730840  \n",
       "4           0.942434            0.535608  \n",
       "5           0.941417            0.610354  \n",
       "6           0.936304            0.234080  \n",
       "7           0.941375            0.835344  \n",
       "8           0.911089            0.870621  \n",
       "9           0.892055            0.785514  "
      ]
     },
     "execution_count": 67,
     "metadata": {},
     "output_type": "execute_result"
    }
   ],
   "source": [
    "result # View the results dataframe"
   ]
  },
  {
   "cell_type": "markdown",
   "metadata": {},
   "source": [
    "## Evaluation Results"
   ]
  },
  {
   "cell_type": "code",
   "execution_count": 81,
   "metadata": {},
   "outputs": [
    {
     "data": {
      "image/png": "[encoded data removed]",
      "text/plain": [
       "<Figure size 640x480 with 2 Axes>"
      ]
     },
     "metadata": {},
     "output_type": "display_data"
    }
   ],
   "source": [
    "sns.heatmap(result[[\"faithfulness\", \"context_precision\", \"context_recall\", \"answer_similarity\", \"answer_relevancy\", \"answer_correctness\"]], annot = True) # Visualizing the results\n",
    "plt.show()"
   ]
  },
  {
   "cell_type": "code",
   "execution_count": null,
   "metadata": {},
   "outputs": [],
   "source": []
  }
 ],
 "metadata": {
  "kernelspec": {
   "display_name": "Python 3 (ipykernel)",
   "language": "python",
   "name": "python3"
  },
  "language_info": {
   "codemirror_mode": {
    "name": "ipython",
    "version": 3
   },
   "file_extension": ".py",
   "mimetype": "text/x-python",
   "name": "python",
   "nbconvert_exporter": "python",
   "pygments_lexer": "ipython3",
   "version": "3.11.5"
  }
 },
 "nbformat": 4,
 "nbformat_minor": 4
}
